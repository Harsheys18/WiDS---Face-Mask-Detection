{
 "cells": [
  {
   "cell_type": "markdown",
   "metadata": {},
   "source": [
    "# Image Processing using OpenCV\n",
    "In this assignment we will learn how to process images using OpenCV. We more or less covered functions which will be useful in Computer Vision projects in general. Also added small questions for revision of OpenCV functions. Happy Learning :)"
   ]
  },
  {
   "cell_type": "code",
   "execution_count": 1,
   "metadata": {},
   "outputs": [],
   "source": [
    "# Including all the imports\n",
    "import cv2"
   ]
  },
  {
   "cell_type": "markdown",
   "metadata": {},
   "source": [
    "Image transformations using OpenCV"
   ]
  },
  {
   "cell_type": "code",
   "execution_count": null,
   "metadata": {},
   "outputs": [],
   "source": [
    "#----------------------------------------------------------------------------------------------------------------------------------\n",
    "# 1. Plot the frequency vs pixel value graph (y vs x) and show the graph for 'the-swing.webp' image\n",
    "\n",
    "\n",
    "\n",
    "\n",
    "#----------------------------------------------------------------------------------------------------------------------------------\n",
    "# 2. Convert the 'mixed_image.jpg' image into black and white using OpenCV and show the image\n",
    "\n",
    "\n",
    "\n",
    "\n",
    "#----------------------------------------------------------------------------------------------------------------------------------\n",
    "# 3. Perform any two arithmetic operations on the images 'eye_image.avif' and 'image2.jpeg' and show the result\n",
    "# Performing such operations is also know as blending of images\n",
    "\n",
    "\n",
    "\n",
    "\n",
    "\n",
    "#----------------------------------------------------------------------------------------------------------------------------------\n",
    "# 4. Crop the image 'the-swing.webp' and show the result of having only the face of the girl\n",
    "\n",
    "\n",
    "\n",
    "\n",
    "#----------------------------------------------------------------------------------------------------------------------------------"
   ]
  },
  {
   "cell_type": "markdown",
   "metadata": {},
   "source": [
    "Detecting elements in images"
   ]
  },
  {
   "cell_type": "code",
   "execution_count": null,
   "metadata": {},
   "outputs": [],
   "source": [
    "#----------------------------------------------------------------------------------------------------------------------------------\n",
    "# 5. In the given 'eye_image.avif' image detect circles which have radius between 1-10 pixels\n",
    "\n",
    "\n",
    "\n",
    "\n",
    "#----------------------------------------------------------------------------------------------------------------------------------\n",
    "# 6. In the image 'smoothing.jpg', detect corners in the image. You can try them from here 'https://stackoverflow.com/questions/7263621/how-to-find-corners-on-a-image-using-opencv' too.\n",
    "\n",
    "\n",
    "\n",
    "#----------------------------------------------------------------------------------------------------------------------------------"
   ]
  },
  {
   "cell_type": "markdown",
   "metadata": {},
   "source": [
    "Learning about kernels"
   ]
  },
  {
   "cell_type": "code",
   "execution_count": null,
   "metadata": {},
   "outputs": [],
   "source": [
    "#----------------------------------------------------------------------------------------------------------------------------------\n",
    "# 7. Build your own gaussian kernel and learn why kernels are important\n",
    "\n",
    "\n",
    "\n",
    "\n",
    "#----------------------------------------------------------------------------------------------------------------------------------\n",
    "# 8. Using the gaussian kernel built above, smooth the image 'smoothing.jpg'\n",
    "\n",
    "\n",
    "\n",
    "\n",
    "#----------------------------------------------------------------------------------------------------------------------------------\n",
    "# 9. Build some other type of kernel and smooth the image 'smoothing.jpg'\n",
    "\n",
    "\n",
    "\n",
    "\n",
    "#----------------------------------------------------------------------------------------------------------------------------------\n",
    "# 10. Show what happens if we use two gaussian kernels on an image 'smoothing.jpg'\n",
    "\n",
    "\n",
    "\n",
    "\n",
    "#---------------------------------------------------------------------------------------------------------------------------------"
   ]
  },
  {
   "cell_type": "markdown",
   "metadata": {},
   "source": [
    "Writing on images and Filtering them"
   ]
  },
  {
   "cell_type": "code",
   "execution_count": null,
   "metadata": {},
   "outputs": [],
   "source": [
    "#---------------------------------------------------------------------------------------------------------------------------------\n",
    "# 11. Write code to draw a rectangle around girl's face in the swing\n",
    "\n",
    "\n",
    "\n",
    "\n",
    "\n",
    "#---------------------------------------------------------------------------------------------------------------------------------\n",
    "# 12. Also Write text above the top side of above rectangle and show the new image\n",
    "\n",
    "\n",
    "\n",
    "\n",
    "\n",
    "#---------------------------------------------------------------------------------------------------------------------------------\n",
    "# 13. Using a 2D filter on the image 'image2.jpeg'\n",
    "\n",
    "\n",
    "\n",
    "\n",
    "#---------------------------------------------------------------------------------------------------------------------------------"
   ]
  },
  {
   "cell_type": "markdown",
   "metadata": {},
   "source": [
    "Video functionalities in OpenCV"
   ]
  },
  {
   "cell_type": "code",
   "execution_count": 6,
   "metadata": {},
   "outputs": [],
   "source": [
    "#---------------------------------------------------------------------------------------------------------------------------------\n",
    "# 14. Capture the current live video of 5 sec using your laptop front camera\n",
    "\n",
    "\n",
    "\n",
    "\n",
    "#---------------------------------------------------------------------------------------------------------------------------------\n",
    "# 15. Also extract an image at a moment from the taken video using time frames\n",
    "\n",
    "\n",
    "\n",
    "\n",
    "#---------------------------------------------------------------------------------------------------------------------------------"
   ]
  }
 ],
 "metadata": {
  "kernelspec": {
   "display_name": "Python 3",
   "language": "python",
   "name": "python3"
  },
  "language_info": {
   "codemirror_mode": {
    "name": "ipython",
    "version": 3
   },
   "file_extension": ".py",
   "mimetype": "text/x-python",
   "name": "python",
   "nbconvert_exporter": "python",
   "pygments_lexer": "ipython3",
   "version": "3.12.2"
  }
 },
 "nbformat": 4,
 "nbformat_minor": 2
}
