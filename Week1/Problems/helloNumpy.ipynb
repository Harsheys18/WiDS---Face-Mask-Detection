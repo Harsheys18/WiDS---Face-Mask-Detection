{
 "cells": [
  {
   "cell_type": "markdown",
   "metadata": {},
   "source": [
    "### Hello Numpy\n",
    "In this exercise, we will learn how to manipulate large arrays in Python.\n",
    "\n",
    "Numpy is one of the most useful libraries for working with multi-dimensional arrays.\n",
    "For syntax help and a clear understanding of Numpy, refer to the following website:\n",
    "W3 Schools: \"https://www.w3schools.com/python/numpy/default.asp\"\n",
    "\n",
    "Task: You are provided with an image.\n",
    "Your objective is to convert it into pixel data using Python modules.\n",
    "Also need to complete various parts of the code about various operations available in numpy"
   ]
  },
  {
   "cell_type": "code",
   "execution_count": null,
   "metadata": {},
   "outputs": [],
   "source": [
    "!pip install pillow\n",
    "!pip install numpy\n",
    "!pip install scipy"
   ]
  },
  {
   "cell_type": "code",
   "execution_count": null,
   "metadata": {},
   "outputs": [],
   "source": [
    "# Import necessary libraries\n",
    "from PIL import Image  # Pillow for image manipulation\n",
    "import numpy as np  # Numpy for array operations\n",
    "\n",
    "# Load the image \n",
    "image = Image.open(\"the-swing.webp\")\n",
    "\n",
    "# Convert the image to a gray scale and then to a numpy array and print first 5 rows\n",
    "# Print the shape of the array\n",
    "\n"
   ]
  },
  {
   "cell_type": "markdown",
   "metadata": {},
   "source": [
    "### Various Numpy operations"
   ]
  },
  {
   "cell_type": "code",
   "execution_count": 6,
   "metadata": {},
   "outputs": [],
   "source": [
    "# 1. Reshape and flatten the above array from 2D to 1D and print first 10 values\n",
    "\n",
    "\n",
    "# Reshape the array back to 2D and print first 5 rows\n",
    "\n",
    "\n",
    "#---------------------------------------------------------------------------------------------------------------------------\n",
    "# 2. Slice the array and get the center of the image of dimensions (height//4, width//4)\n",
    "\n",
    "\n",
    "\n",
    "# Convert the pixels into new image and show that image\n",
    "\n",
    "\n",
    "#---------------------------------------------------------------------------------------------------------------------------\n",
    "# 3. Increase the brightness of the image; and print the pixel values before and after increasing\n",
    "# Show the new brighter image\n",
    "\n",
    "\n",
    "\n",
    "\n"
   ]
  },
  {
   "cell_type": "code",
   "execution_count": 7,
   "metadata": {},
   "outputs": [],
   "source": [
    "# 4. Find minimum, maximum, mean, and standard deviation and print them\n",
    "\n",
    "\n",
    "\n",
    "\n",
    "\n",
    "#---------------------------------------------------------------------------------------------------------------------------\n",
    "# 5. Normalise the pixel values (0 to 1) and print first 5 rows of normalized pixels\n",
    "\n",
    "\n",
    "\n",
    "#---------------------------------------------------------------------------------------------------------------------------\n",
    "# 6. Stack the brightened array and original array, one over another\n",
    "\n",
    "\n",
    "# Print the shape of the stacked array\n",
    "\n"
   ]
  },
  {
   "cell_type": "code",
   "execution_count": 14,
   "metadata": {},
   "outputs": [
    {
     "name": "stdout",
     "output_type": "stream",
     "text": [
      "[58 67 16 32 37 55 75 62  5 53]\n"
     ]
    }
   ],
   "source": [
    "# 7. Padding of numpy arrays\n",
    "#---------------------------------------------------------------------------------------------------------------------------\n",
    "# Create a sample 2D numpy array\n",
    "array = np.array([[1, 2, 3],[4, 5, 6],[7, 8, 9]])\n",
    "#---------------------------------------------------------------------------------------------------------------------------\n",
    "# Padding with a constant value 0 and print array \n",
    "\n",
    "\n",
    "\n",
    "#---------------------------------------------------------------------------------------------------------------------------\n",
    "# Padding with edge values (replicating the edge values) and print array \n",
    "\n",
    "\n",
    "\n",
    "#---------------------------------------------------------------------------------------------------------------------------\n",
    "# Symmetric padding (mirroring along the edges) and print array \n",
    "\n",
    "\n",
    "\n",
    "#---------------------------------------------------------------------------------------------------------------------------\n",
    "# Uneven padding (different padding on each side) -- pad_width=((1, 2), (2, 3)) and print array \n",
    "\n",
    "\n",
    "\n",
    "#---------------------------------------------------------------------------------------------------------------------------\n",
    "# 8. For the following array form array filtering and give new array if all elements in the new array should be divisible by 2\n",
    "array = np.random.randint(100,size=(10))\n",
    "print(array)\n",
    "\n"
   ]
  },
  {
   "cell_type": "code",
   "execution_count": 9,
   "metadata": {},
   "outputs": [],
   "source": [
    "# 9. Apply a filter (edge detection using convolution) (using scipy)\n",
    "# Perform convolution using numpy (assumes a padding or cropped output for simplicity)\n",
    "from scipy.signal import convolve2d\n",
    "\n",
    "\n"
   ]
  }
 ],
 "metadata": {
  "kernelspec": {
   "display_name": "Python 3",
   "language": "python",
   "name": "python3"
  },
  "language_info": {
   "codemirror_mode": {
    "name": "ipython",
    "version": 3
   },
   "file_extension": ".py",
   "mimetype": "text/x-python",
   "name": "python",
   "nbconvert_exporter": "python",
   "pygments_lexer": "ipython3",
   "version": "3.12.2"
  }
 },
 "nbformat": 4,
 "nbformat_minor": 2
}
