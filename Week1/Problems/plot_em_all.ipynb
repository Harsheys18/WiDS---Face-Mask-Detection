{
  "cells": [
    {
      "cell_type": "markdown",
      "metadata": {
        "id": "ed2ZQPLT8PXr"
      },
      "source": [
        "#**1.Plotting a Line Graph**\n",
        "---\n",
        "**A.Basic line graph**\n",
        "\n",
        "Start by creating a basic line plot using Matplotlib. You'll plot a simple\n",
        "function to get started.\n",
        "\n",
        "\n",
        "Steps:\n",
        "\n",
        "*   Import matplotlib.pyplot as plt.\n",
        "\n",
        "*   Create two lists: one for the x-axis (x = [1, 2, 3, 4, 5]) and one for the y-axis (y = [1, 8, 27, 64, 125]).\n",
        "\n",
        "\n",
        "*   Plot the line using the plot() function.\n",
        "\n",
        "*   Add labels for both axes (xlabel() and ylabel()).\n",
        "\n",
        "\n",
        "*   Give the plot a title using the title() function.\n",
        "\n",
        "*   Display the plot using show().\n",
        "\n",
        "\n",
        "\n",
        "\n",
        "\n",
        "\n",
        "\n",
        "\n",
        "\n"
      ]
    },
    {
      "cell_type": "code",
      "execution_count": 2,
      "metadata": {
        "colab": {
          "base_uri": "https://localhost:8080/",
          "height": 472
        },
        "id": "4Lu08ssu8HEw",
        "outputId": "7bee1f23-3d13-485c-fe5a-af563de3b757"
      },
      "outputs": [],
      "source": [
        "import matplotlib.pyplot as plt\n",
        "\n",
        "x = [1, 2, 3, 4, 5]\n",
        "y = [1, 8, 27, 64, 125]\n",
        "\n",
        "\n"
      ]
    },
    {
      "cell_type": "markdown",
      "metadata": {
        "id": "ZY25iGUc9YUp"
      },
      "source": [
        "**B. Experiment with Line Styles and Colors**\n",
        "\n",
        "Now, customize your line graph:\n",
        "\n",
        "Change the line style to dashed (--) and the color to red ('r').\n",
        "\n",
        "Experiment with adding markers ('o').\n"
      ]
    },
    {
      "cell_type": "code",
      "execution_count": null,
      "metadata": {
        "colab": {
          "base_uri": "https://localhost:8080/",
          "height": 472
        },
        "id": "8G90G0Pa9S8M",
        "outputId": "612fb24f-da43-4a15-aef2-bf14935ed7d5"
      },
      "outputs": [],
      "source": []
    },
    {
      "cell_type": "markdown",
      "metadata": {
        "id": "CGrNwnah-L4p"
      },
      "source": [
        "# **Part 2: Creating a Bar Chart**\n",
        "\n",
        "\n",
        "---\n",
        "**A. Plot a Simple Bar Chart**\n",
        "\n",
        "You’ll now plot a bar chart to represent categorical data. Here we are taking the example of daywise worldwide collections of \"Pushpa 2\" movie.\n",
        "\n",
        "\n",
        "Steps:\n",
        "\n",
        "*   Create a list of days (day = ['First', 'Second', 'Third', 'Fourth', 'Fifth','Sixth','Seventh']) and their\n",
        "\n",
        "*   corresponding collection on that day in crores (collection = [164.25, 93.8, 119.25, 141.05, 64.65, 51.55, 43.35]).\n",
        "\n",
        "\n",
        "*   Use the bar() function to plot the bar chart.\n",
        "\n",
        "*   Label the axes and give the chart a title.\n",
        "\n",
        "\n",
        "\n",
        "\n",
        "\n",
        "\n"
      ]
    },
    {
      "cell_type": "code",
      "execution_count": 3,
      "metadata": {
        "colab": {
          "base_uri": "https://localhost:8080/",
          "height": 472
        },
        "id": "IvEk5NXN9tn8",
        "outputId": "94921a73-b40d-4fc5-efdd-ae8acfaaa055"
      },
      "outputs": [],
      "source": [
        "day = ['First', 'Second', 'Third', 'Fourth', 'Fifth','Sixth','Seventh']\n",
        "collection = [164.25, 93.8, 119.25, 141.05, 64.65, 51.55, 43.35]\n",
        "\n"
      ]
    },
    {
      "cell_type": "markdown",
      "metadata": {
        "id": "9lRccK-vAJMm"
      },
      "source": [
        "**B. Customize the Bar Chart**\n",
        "\n",
        "Change the color of the bars (e.g., color='green').\n",
        "\n",
        "Add a grid using the grid() function.\n"
      ]
    },
    {
      "cell_type": "code",
      "execution_count": null,
      "metadata": {
        "colab": {
          "base_uri": "https://localhost:8080/",
          "height": 472
        },
        "id": "7PA8qdVP-ofI",
        "outputId": "78885d75-ce69-406a-e031-cf8e4a56b2e8"
      },
      "outputs": [],
      "source": []
    },
    {
      "cell_type": "markdown",
      "metadata": {
        "id": "lbLD5Oh1Anf3"
      },
      "source": [
        "# **Part 3: Creating a Scatter Plot**\n",
        "\n",
        "---\n",
        "\n",
        "**A. Plot a Basic Scatter Plot**\n",
        "\n",
        "Next, you’ll create a scatter plot, which is useful for visualizing relationships between two variables.\n",
        "\n",
        "Here for example lets take the data of Study Hours vs Exam Scores(This data is found online)\n",
        "\n",
        "Steps:\n",
        "\n",
        "*   Create two lists: study_hours and exam_scores.\n",
        "\n",
        "*  study_hours: Represents how many hours a group of students studied for an exam.\n",
        "*  exam_scores: Represents the corresponding scores these students achieved in the exam.\n",
        "*  Plot a scatter plot using Matplotlib to visualize the relationship between the two variables.\n",
        "*  Add labels for the x-axis and y-axis to clearly show what each axis represents.\n",
        "*  Give the plot a title.\n",
        "\n",
        "Data:\n",
        "\n",
        "*  study_hours = [2, 3, 4, 5, 6, 7, 8, 9, 10, 12]\n",
        "*  exam_scores = [50, 55, 60, 62, 65, 70, 78, 80, 85, 95]\n",
        "\n",
        "\n"
      ]
    },
    {
      "cell_type": "code",
      "execution_count": 4,
      "metadata": {
        "colab": {
          "base_uri": "https://localhost:8080/",
          "height": 472
        },
        "id": "4lupxFW0Afjq",
        "outputId": "f1c1b11b-db3c-44c1-db9a-2da052678a90"
      },
      "outputs": [],
      "source": [
        "import matplotlib.pyplot as plt\n",
        "\n",
        "# Data: Hours studied vs Exam scores\n",
        "study_hours = [2, 3, 4, 5, 6, 7, 8, 9, 10, 12]\n",
        "exam_scores = [50, 55, 60, 62, 65, 70, 78, 80, 85, 95]\n",
        "\n"
      ]
    },
    {
      "cell_type": "markdown",
      "metadata": {
        "id": "q5A1jjHWCYi9"
      },
      "source": [
        "**B.Enhancing the Scatter Plot**\n",
        "\n",
        "In this part, students will enhance the scatter plot by customizing the marker size, adding a grid, and changing the color of the points.\n",
        "\n",
        "Instructions:\n",
        "* Customize the scatter plot by adjusting the size (s parameter) and color of the points.\n",
        "* Set the point size to 100.\n",
        "* Set the color to blue.\n",
        "* Add a grid to the plot to make it more readable."
      ]
    },
    {
      "cell_type": "code",
      "execution_count": 5,
      "metadata": {
        "colab": {
          "base_uri": "https://localhost:8080/",
          "height": 472
        },
        "id": "wKr8NtgWA7cQ",
        "outputId": "0eb5ace8-2778-443e-a7e5-acbb3866bdf5"
      },
      "outputs": [],
      "source": [
        "import matplotlib.pyplot as plt\n",
        "\n",
        "# Data: Hours studied vs Exam scores\n",
        "study_hours = [2, 3, 4, 5, 6, 7, 8, 9, 10, 12]\n",
        "exam_scores = [50, 55, 60, 62, 65, 70, 78, 80, 85, 95]\n",
        "\n"
      ]
    },
    {
      "cell_type": "markdown",
      "metadata": {
        "id": "T6lVlwc5Fck_"
      },
      "source": [
        "# **Part 4: Histograms**\n",
        "\n",
        "\n",
        "---\n",
        "\n",
        "\n",
        "**A. Basic Histogram**\n",
        "\n",
        "In this task, you will create a basic histogram to visualize the distribution of data.\n",
        "\n",
        "Steps:\n",
        "\n",
        "* Create a list of random data values (e.g., data = [12, 15, 12, 18, 17, 15, 19, 20, 12, 18, 17, 19, 21]).\n",
        "* Use the hist() function to plot the histogram.\n",
        "* Add labels for the x-axis and y-axis.\n",
        "* Give the plot a title.\n",
        "* Display the plot using show()."
      ]
    },
    {
      "cell_type": "code",
      "execution_count": null,
      "metadata": {
        "id": "nTYl5vMGCj1O"
      },
      "outputs": [],
      "source": []
    },
    {
      "cell_type": "markdown",
      "metadata": {
        "id": "wnrqvHgIFvks"
      },
      "source": [
        "**B. Customizing the Histogram**\n",
        "\n",
        "Now, customize your histogram:\n",
        "\n",
        "* Change the number of bins in the histogram (e.g., bins=5).\n",
        "* Experiment with the color of the bars (e.g., color='purple').\n",
        "* Add a grid using the grid() function."
      ]
    },
    {
      "cell_type": "code",
      "execution_count": null,
      "metadata": {
        "id": "hXaARlo0F5dM"
      },
      "outputs": [],
      "source": []
    },
    {
      "cell_type": "markdown",
      "metadata": {
        "id": "Pa9D8PefF6VE"
      },
      "source": [
        "# **Part 5: Pie Charts**\n",
        "\n",
        "\n",
        "---\n",
        "\n",
        "\n",
        "**A. Basic Pie Chart**\n",
        "\n",
        "In this task, you will create a simple pie chart to represent categorical data.Here we take the example of pushpa 2 day 1 collection from each language\n",
        "\n",
        "Steps:\n",
        "\n",
        "* Create a list of languages (languages = ['Telugu', 'Hindi', 'Tamil', 'Malayalam','Kannada']) and their corresponding collection (e.g., collection = [80.3, 70.3, 7.7, 4.95, 1]).\n",
        "* Use the pie() function to plot the pie chart.\n",
        "* Add labels for the categories.\n",
        "* Give the pie chart a title.\n",
        "* Display the chart using show()."
      ]
    },
    {
      "cell_type": "code",
      "execution_count": null,
      "metadata": {
        "id": "aeXvZdEJG360"
      },
      "outputs": [],
      "source": []
    },
    {
      "cell_type": "markdown",
      "metadata": {
        "id": "IkL83HuqHDCy"
      },
      "source": [
        "**B. Customizing the Pie Chart**\n",
        "\n",
        "Now, customize your pie chart:\n",
        "\n",
        "* Change the colors of the slices (e.g., colors = ['gold', 'yellowgreen', 'lightcoral', 'lightskyblue']).\n",
        "* Add percentages on the chart using autopct='%1.1f%%'.\n",
        "* Experiment with adding a shadow to the pie chart (shadow=True)."
      ]
    },
    {
      "cell_type": "code",
      "execution_count": null,
      "metadata": {
        "id": "ozSuKWkQHKm9"
      },
      "outputs": [],
      "source": []
    },
    {
      "cell_type": "markdown",
      "metadata": {
        "id": "YuTr60K2HLdr"
      },
      "source": [
        "# **Part 6: Boxplots**\n",
        "\n",
        "\n",
        "---\n",
        "\n",
        "\n",
        "**A. Basic Boxplot**\n",
        "\n",
        "In this task, you will create a basic boxplot to visualize the distribution and outliers in a dataset.\n",
        "\n",
        "Steps:\n",
        "\n",
        "* Create a list of data points (e.g., data = [12, 15, 12, 18, 17, 15, 19, 20, 12, 18, 17, 19, 21]).\n",
        "* Use the boxplot() function to plot the boxplot.\n",
        "* Add labels for the x-axis and y-axis.\n",
        "* Give the plot a title.\n",
        "* Display the plot using show()."
      ]
    },
    {
      "cell_type": "code",
      "execution_count": null,
      "metadata": {
        "id": "rcDETlnIHhBB"
      },
      "outputs": [],
      "source": []
    },
    {
      "cell_type": "markdown",
      "metadata": {
        "id": "mGtjRDPwHhr7"
      },
      "source": [
        "**B. Customizing the Boxplot**\n",
        "\n",
        "Now, customize your boxplot:\n",
        "\n",
        "* Change the color of the box (e.g., boxprops=dict(facecolor='skyblue')).\n",
        "* Add grid lines using the grid() function.\n",
        "* Modify the whiskers and outliers to make them more visible."
      ]
    },
    {
      "cell_type": "code",
      "execution_count": null,
      "metadata": {
        "id": "Mq53hKoOIAe8"
      },
      "outputs": [],
      "source": []
    },
    {
      "cell_type": "markdown",
      "metadata": {
        "id": "3MzqsWCrIX6q"
      },
      "source": [
        "# **7. Multiple Plots**\n",
        "\n",
        "\n",
        "---\n",
        "\n",
        "**Plotting different graphs side by side**\n",
        "\n",
        "Now, you will plot multiple graphs in the same figure to compare the worldwide collections of the movies Pushpa 2: The Rule and Jawan on their first 7 days.\n",
        "\n",
        "Steps:\n",
        "\n",
        "* Create a subplot with two rows and one column using plt.subplot(2, 1, 1).\n",
        "\n",
        "* Plot a line graph for the worldwide collections of Pushpa 2: The Rule (first 7 days).\n",
        "* pushpa2_collections = [164.25, 93.8, 119.25, 141.05, 64.65, 51.55, 43.35]\n",
        "* Create another subplot and plot a line chart for the worldwide collections of Jawan (first 7 days).\n",
        "* jawan_collections = [129.7, 77.5, 84.2, 91.5, 61.2, 60.1, 52.5]\n",
        "* Display both plots using show().\n",
        "\n",
        "\n",
        "\n",
        "\n"
      ]
    },
    {
      "cell_type": "code",
      "execution_count": 6,
      "metadata": {
        "colab": {
          "base_uri": "https://localhost:8080/",
          "height": 807
        },
        "id": "3SaisuAmK1WM",
        "outputId": "d46e51ba-2bfc-49ad-d086-40fcf1887639"
      },
      "outputs": [],
      "source": [
        "import matplotlib.pyplot as plt\n",
        "\n",
        "# Data for Pushpa 2 and Jawan (Worldwide collections in crores)\n",
        "pushpa2_collections = [164.25, 93.8, 119.25, 141.05, 64.65, 51.55, 43.35]\n",
        "jawan_collections = [129.7, 77.5, 84.2, 91.5, 61.2, 60.1, 52.5]\n",
        "days = ['First', 'Second', 'Third', 'Fourth', 'Fifth', 'Sixth', 'Seventh']\n",
        "\n",
        "# Create subplots\n",
        "# plt.figure(figsize=(10, 8))\n",
        "\n",
        "# First subplot: Line plot for Pushpa 2 collections\n",
        "\n",
        "\n",
        "# Second subplot: Bar chart for Jawan collections\n",
        "\n",
        "\n",
        "# Display both plots\n"
      ]
    },
    {
      "cell_type": "markdown",
      "metadata": {
        "id": "JNfvMdPPLYAQ"
      },
      "source": [
        "**B. Comparing two different datas on the Same Graph**\n",
        "\n",
        "\n",
        "\n",
        "\n",
        "In this task, you will plot the worldwide collections of both Pushpa 2: The Rule and Jawan on the same graph. This will allow for a direct comparison between the two movies over their first 7 days of release.\n",
        "\n",
        "Steps:\n",
        "\n",
        "* Plot the worldwide collections of Pushpa 2: The Rule and Jawan on the same graph using different line styles and markers to make them easily distinguishable.\n",
        "* Use the following data for the collections (in crores):\n",
        "* Pushpa 2: The Rule collections: [164.25, 93.8, 119.25, 141.05, 64.65, 51.55, 43.35]\n",
        "* Jawan collections: [129.7, 77.5, 84.2, 91.5, 61.2, 60.1, 52.5]\n",
        "* Days: ['First', 'Second', 'Third', 'Fourth', 'Fifth', 'Sixth', 'Seventh']\n",
        "* Customize the line styles and markers to distinguish between the two plots:\n",
        "* Use a solid line with circular markers for Pushpa 2.\n",
        "* Use a dashed line with square markers for Jawan.\n",
        "* Add a legend to the plot to label each movie.\n",
        "* Display the plot with appropriate axis labels, title, and grid for better readability."
      ]
    },
    {
      "cell_type": "code",
      "execution_count": 7,
      "metadata": {
        "id": "0YclJ2aFK2Hv"
      },
      "outputs": [
        {
          "data": {
            "text/plain": [
              "<Figure size 1000x600 with 0 Axes>"
            ]
          },
          "metadata": {},
          "output_type": "display_data"
        }
      ],
      "source": [
        "import matplotlib.pyplot as plt\n",
        "\n",
        "# Data for Pushpa 2 and Jawan (Worldwide collections in crores)\n",
        "pushpa2_collections = [164.25, 93.8, 119.25, 141.05, 64.65, 51.55, 43.35]\n",
        "jawan_collections = [129.7, 77.5, 84.2, 91.5, 61.2, 60.1, 52.5]\n",
        "days = ['First', 'Second', 'Third', 'Fourth', 'Fifth', 'Sixth', 'Seventh']\n",
        "\n",
        "# Plot both collections on the same graph\n",
        "plt.figure(figsize=(10, 6))\n",
        "\n",
        "# TODO:Plot Pushpa 2 collections (solid line with circular markers)\n",
        "\n",
        "\n",
        "# TODO:Plot Jawan collections (dashed line with square markers)\n",
        "\n",
        "\n",
        "\n",
        "# Customize the plot\n",
        "\n",
        "\n",
        "# Display the plot\n",
        "plt.tight_layout()\n",
        "plt.show()\n"
      ]
    },
    {
      "cell_type": "markdown",
      "metadata": {
        "id": "HMeNJyXvMK5J"
      },
      "source": [
        "#**Part 9: Plot Styling**\n",
        "---\n",
        "\n",
        "**A. Changing Plot Style**\n",
        "In this task, you will experiment with different plot styles using the monthly average temperatures of Mumbai.\n",
        "\n",
        "Steps:\n",
        "\n",
        "* Choose a predefined style using plt.style.use('bmh') or any other available style.\n",
        "* Plot a simple line graph showing the average temperature for each month of the year.\n",
        "* Data: Monthly average temperatures in Mumbai (in °C):\n",
        "* temperature = [26, 27, 29, 31, 32, 30, 29, 29, 28, 27, 26, 26]\n",
        "* months = ['January', 'February', 'March', 'April', 'May', 'June', 'July', 'August', 'September', 'October', 'November', 'December']\n",
        "* Change the style to plt.style.use('ggplot') and plot the graph again.\n",
        "* Compare both plots to see how different styles affect the appearance of the graph.\n"
      ]
    },
    {
      "cell_type": "code",
      "execution_count": 8,
      "metadata": {
        "colab": {
          "base_uri": "https://localhost:8080/",
          "height": 1000
        },
        "id": "KWVKCsjWM-oG",
        "outputId": "62476541-e891-42b7-fc95-e2c219929f95"
      },
      "outputs": [],
      "source": [
        "import matplotlib.pyplot as plt\n",
        "\n",
        "# Data for average monthly temperatures in Mumbai (in °C)\n",
        "temperature = [26, 27, 29, 31, 32, 30, 29, 29, 28, 27, 26, 26]\n",
        "months = ['January', 'February', 'March', 'April', 'May', 'June', 'July', 'August', 'September', 'October', 'November', 'December']\n",
        "\n",
        "# Step 1: Plot with the 'bmh' style\n",
        "\n",
        "\n",
        "# Step 2: Change style to 'ggplot' and plot again\n",
        "\n"
      ]
    },
    {
      "cell_type": "markdown",
      "metadata": {
        "id": "oUtO7X09NCyu"
      },
      "source": [
        "**B. Customizing the Background**\n",
        "\n",
        "In this task, you will adjust the background of the plot using the monthly average temperatures of Mumbai.\n",
        "\n",
        "Steps:\n",
        "\n",
        "* Change the background color of the plot to light gray using fig.patch.set_facecolor('lightgray').\n",
        "* Adjust the grid color to a darker shade (e.g., 'black') and increase the line width for better visibility.\n",
        "* Plot the temperature data for Mumbai with these customizations."
      ]
    },
    {
      "cell_type": "code",
      "execution_count": 9,
      "metadata": {
        "colab": {
          "base_uri": "https://localhost:8080/",
          "height": 607
        },
        "id": "-YjOPOcINH2q",
        "outputId": "fcf1cbff-a602-4cdd-f0c9-45fcb3e66ddc"
      },
      "outputs": [
        {
          "name": "stderr",
          "output_type": "stream",
          "text": [
            "No artists with labels found to put in legend.  Note that artists whose label start with an underscore are ignored when legend() is called with no argument.\n"
          ]
        },
        {
          "data": {
            "image/png": "[encoded data removed]",
            "text/plain": [
              "<Figure size 1000x600 with 1 Axes>"
            ]
          },
          "metadata": {},
          "output_type": "display_data"
        }
      ],
      "source": [
        "import matplotlib.pyplot as plt\n",
        "\n",
        "# Data for average monthly temperatures in Mumbai (in °C)\n",
        "temperature = [26, 27, 29, 31, 32, 30, 29, 29, 28, 27, 26, 26]\n",
        "months = ['January', 'February', 'March', 'April', 'May', 'June', 'July', 'August', 'September', 'October', 'November', 'December']\n",
        "\n",
        "# Create the plot\n",
        "fig, ax = plt.subplots(figsize=(10, 6))\n",
        "\n",
        "# Change background color\n",
        "\n",
        "\n",
        "# Plot the temperature data\n",
        "\n",
        "\n",
        "# Customize plot appearance\n",
        "ax.set_title(\"Average Monthly Temperature in Mumbai with Custom Background\")\n",
        "ax.set_xlabel(\"Month\")\n",
        "ax.set_ylabel(\"Temperature (°C)\")\n",
        "ax.legend(loc='upper left')\n",
        "\n",
        "# Customize grid\n",
        "\n",
        "\n",
        "# Rotate month labels for better readability\n",
        "plt.xticks(rotation=45)\n",
        "\n",
        "# Display the plot\n",
        "plt.tight_layout()\n",
        "plt.show()\n"
      ]
    }
  ],
  "metadata": {
    "colab": {
      "provenance": []
    },
    "kernelspec": {
      "display_name": "Python 3",
      "name": "python3"
    },
    "language_info": {
      "codemirror_mode": {
        "name": "ipython",
        "version": 3
      },
      "file_extension": ".py",
      "mimetype": "text/x-python",
      "name": "python",
      "nbconvert_exporter": "python",
      "pygments_lexer": "ipython3",
      "version": "3.12.2"
    }
  },
  "nbformat": 4,
  "nbformat_minor": 0
}
